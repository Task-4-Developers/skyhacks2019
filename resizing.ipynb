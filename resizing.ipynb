{
 "cells": [
  {
   "cell_type": "code",
   "execution_count": 2,
   "metadata": {},
   "outputs": [
    {
     "name": "stderr",
     "output_type": "stream",
     "text": "C:\\Users\\pawel\\Anaconda3\\lib\\site-packages\\skimage\\viewer\\utils\\core.py:10: UserWarning: Recommended matplotlib backend is `Agg` for full skimage.viewer functionality.\n  warn(\"Recommended matplotlib backend is `Agg` for full \"\n"
    }
   ],
   "source": [
    "import skimage as ski\n",
    "from skimage.viewer import ImageViewer\n",
    "\n",
    "import matplotlib.pyplot as plt\n",
    "import numpy as np\n",
    "import os\n",
    "import pandas as pd"
   ]
  },
  {
   "cell_type": "code",
   "execution_count": 18,
   "metadata": {},
   "outputs": [
    {
     "name": "stdout",
     "output_type": "stream",
     "text": "dziala\nunknown dimention\nC:\\Users\\pawel\\Anaconda3\\lib\\site-packages\\skimage\\util\\dtype.py:135: UserWarning: Possible precision loss when converting from float64 to uint8\n  .format(dtypeobj_in, dtypeobj_out))\n"
    }
   ],
   "source": [
    "#this will loop though all files\n",
    "\n",
    "print(\"dziala\")\n",
    "\n",
    "file = 'dataset_github/2019/main/labels.csv'\n",
    "names = ['filename','standard','task2_class','tech_cond','Bathroom','Bathroom cabinet','Bathroom sink','Bathtub','Bed','Bed frame','Bed sheet','Bedroom','Cabinetry','Ceiling','Chair','Chandelier','Chest of drawers','Coffee table','Couch','Countertop','Cupboard','Curtain','Dining room','Door','Drawer','Facade','Fireplace','Floor','Furniture','Grass','Hardwood','House','Kitchen','Kitchen & dining room table','Kitchen stove','Living room','Mattress','Nightstand','Plumbing fixture','Property','Real estate','Refrigerator','Roof','Room','Rural area','Shower','Sink','Sky','Table','Tablecloth','Tap','Tile','Toilet','Tree','Urban area','Wall','Window']\n",
    "labels_data = pd.read_csv(file, names=names)\n",
    "\n",
    "labels_data = labels_data.drop(labels_data.index[0])\n",
    "\n",
    "def find(name, path):\n",
    "    for root, dirs, files in os.walk(path):\n",
    "        if name in files:\n",
    "            return os.path.join(root, name)\n",
    "\n",
    "output_resolution=512 # resolution x resolution\n",
    "\n",
    "wrong_images=open(\"wrong_images.txt\",'w')\n",
    "for filename in labels_data['filename']:\n",
    "    file_path = find(filename, \"dataset_pendrive\\\\\")\n",
    "\n",
    "    #print(file_path)\n",
    "    #do something with the file\n",
    "    #print(file_path)\n",
    "    try:\n",
    "        input_image=ski.io.imread(file_path)\n",
    "        ImageViewer(input_image).show() #this shows\n",
    "        scale=output_resolution/max(input_image.shape[:2])\n",
    "\n",
    "        if len(input_image.shape)==3:\n",
    "            #print(final_image.shape[2])\n",
    "            pass\n",
    "        else:\n",
    "            input_image=ski.color.gray2rgb(input_image)\n",
    "            print(\"different dimentions\")\n",
    "            wrong_images.write(\"different dimentions: \"+file_path + \"\\n\")\n",
    "            #continue\n",
    "\n",
    "        final_image=np.full((output_resolution,output_resolution,3),(0.0,0.0,0.0))\n",
    "        resized_image=ski.transform.rescale(input_image,scale,multichannel=True)\n",
    "\n",
    "        final_image[:resized_image.shape[0],:resized_image.shape[1]] += resized_image #add image to empty border\n",
    "        #change to uint8 because debug error\n",
    "        final_image=ski.img_as_ubyte(final_image)\n",
    "        ImageViewer(final_image).show() #this shows\n",
    "        ski.io.imsave(\"sorted_resized_images\\\\\"+file_path,final_image)\n",
    "\n",
    "    except Exception as e:\n",
    "        #print(\"wrong file: \"+filename)\n",
    "        #print(file_path)\n",
    "        print(input_image.shape)\n",
    "        print(e)\n",
    "        wrong_images.write(\"exception: \"+file_path + \"\\n\")\n",
    "wrong_images.close()"
   ]
  },
  {
   "cell_type": "markdown",
   "execution_count": null,
   "metadata": {},
   "outputs": [],
   "source": [
    "\n",
    "------\n",
    "\n",
    "this is just a test cell"
   ]
  },
  {
   "cell_type": "code",
   "execution_count": 8,
   "metadata": {},
   "outputs": [
    {
     "name": "stdout",
     "output_type": "stream",
     "text": "dataset_pendrive\\main task\\input\\test_1\\0A4915AC8C380020584A58784D4800D84901AEA2.jpg\n(997, 810)\n0.802407221664995\n"
    }
   ],
   "source": [
    "#this is just a test cell\n",
    "\n",
    "imagename=\"0A4915AC8C380020584A58784D4800D84901AEA2\"\n",
    "filename=\"dataset_pendrive\\\\main task\\\\input\\\\test_1\\\\\"+imagename+\".jpg\"\n",
    "#ImageViewer(input_image).show() #this shows\n",
    "input_image=ski.io.imread(filename)\n",
    "print(filename)\n",
    "output_resolution=800 # 800x800\n",
    "\n",
    "image_sizes=input_image.shape[:2]\n",
    "print(image_sizes)\n",
    "scale=output_resolution/max(input_image.shape[:2])\n",
    "print(scale)\n",
    "#this resizes to 0.5 scale\n",
    "resized_image=ski.transform.rescale(input_image,scale)\n",
    "\n",
    "#this adds borders\n",
    "final_image=np.full((output_resolution,output_resolution,3),(0.0,0.0,0.0))\n",
    "f_i_t=ski.transform.rescale(input_image,scale)\n",
    "final_image[:f_i_t.shape[0],:f_i_t.shape[1]] += f_i_t #add image to empty border\n",
    "\n",
    "final_image=ski.img_as_ubyte(final_image)\n",
    "ski.io.imsave(\"test_folder/\"+imagename+\".jpg\",final_image)"
   ]
  },
  {
   "cell_type": "code",
   "execution_count": null,
   "metadata": {},
   "outputs": [],
   "source": []
  }
 ],
 "metadata": {},
 "nbformat": 4,
 "nbformat_minor": 2
}
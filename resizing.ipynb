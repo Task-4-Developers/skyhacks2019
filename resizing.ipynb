{
 "cells": [
  {
   "cell_type": "code",
   "execution_count": 2,
   "metadata": {},
   "outputs": [
    {
     "ename": "ModuleNotFoundError",
     "evalue": "No module named 'skimage'",
     "output_type": "error",
     "traceback": [
      "\u001b[1;31m---------------------------------------------------------------------------\u001b[0m",
      "\u001b[1;31mModuleNotFoundError\u001b[0m                       Traceback (most recent call last)",
      "\u001b[1;32m<ipython-input-2-d368e89829d9>\u001b[0m in \u001b[0;36m<module>\u001b[1;34m\u001b[0m\n\u001b[1;32m----> 1\u001b[1;33m \u001b[1;32mimport\u001b[0m \u001b[0mskimage\u001b[0m \u001b[1;32mas\u001b[0m \u001b[0mski\u001b[0m\u001b[1;33m\u001b[0m\u001b[1;33m\u001b[0m\u001b[0m\n\u001b[0m\u001b[0;32m      2\u001b[0m \u001b[1;32mfrom\u001b[0m \u001b[0mskimage\u001b[0m\u001b[1;33m.\u001b[0m\u001b[0mviewer\u001b[0m \u001b[1;32mimport\u001b[0m \u001b[0mImageViewer\u001b[0m\u001b[1;33m\u001b[0m\u001b[1;33m\u001b[0m\u001b[0m\n\u001b[0;32m      3\u001b[0m \u001b[1;32mimport\u001b[0m \u001b[0mmatplotlib\u001b[0m\u001b[1;33m.\u001b[0m\u001b[0mpyplot\u001b[0m \u001b[1;32mas\u001b[0m \u001b[0mplt\u001b[0m\u001b[1;33m\u001b[0m\u001b[1;33m\u001b[0m\u001b[0m\n\u001b[0;32m      4\u001b[0m \u001b[1;32mimport\u001b[0m \u001b[0mnumpy\u001b[0m \u001b[1;32mas\u001b[0m \u001b[0mnp\u001b[0m\u001b[1;33m\u001b[0m\u001b[1;33m\u001b[0m\u001b[0m\n\u001b[0;32m      5\u001b[0m \u001b[1;32mimport\u001b[0m \u001b[0mos\u001b[0m\u001b[1;33m\u001b[0m\u001b[1;33m\u001b[0m\u001b[0m\n",
      "\u001b[1;31mModuleNotFoundError\u001b[0m: No module named 'skimage'"
     ]
    }
   ],
   "source": [
    "import skimage as ski\n",
    "from skimage.viewer import ImageViewer\n",
    "import matplotlib.pyplot as plt\n",
    "import numpy as np\n",
    "import os\n",
    "import pandas as pd"
   ]
  },
  {
   "cell_type": "code",
   "execution_count": 3,
   "metadata": {},
   "outputs": [],
   "source": [
    "#this will loop though all files\n",
    "def standarize(output_resolution,output_folder):\n",
    "    print(\"dziala\")\n",
    "\n",
    "    file = 'dataset_github/2019/main/labels.csv'\n",
    "    names = ['filename','standard','task2_class','tech_cond','Bathroom','Bathroom cabinet','Bathroom sink','Bathtub','Bed','Bed frame','Bed sheet','Bedroom','Cabinetry','Ceiling','Chair','Chandelier','Chest of drawers','Coffee table','Couch','Countertop','Cupboard','Curtain','Dining room','Door','Drawer','Facade','Fireplace','Floor','Furniture','Grass','Hardwood','House','Kitchen','Kitchen & dining room table','Kitchen stove','Living room','Mattress','Nightstand','Plumbing fixture','Property','Real estate','Refrigerator','Roof','Room','Rural area','Shower','Sink','Sky','Table','Tablecloth','Tap','Tile','Toilet','Tree','Urban area','Wall','Window']\n",
    "    labels_data = pd.read_csv(file, names=names)\n",
    "\n",
    "    labels_data = labels_data.drop(labels_data.index[0])\n",
    "\n",
    "    def find(name, path):\n",
    "        for root, dirs, files in os.walk(path):\n",
    "            if name in files:\n",
    "                return os.path.join(root, name)\n",
    "\n",
    "    wrong_images=open(\"wrong_images.txt\",'w')\n",
    "    for filename in labels_data['filename']:\n",
    "        file_path = find(filename, \"dataset_pendrive\\\\\")\n",
    "\n",
    "        #this ignores already processed images\n",
    "        if False:\n",
    "            already_processed=find(filename, \"sorted_resized_images\\\\dataset_pendrive\\\\\")\n",
    "            if already_processed!=None:\n",
    "                continue\n",
    "            print(\"new image\")\n",
    "\n",
    "        try:\n",
    "            input_image=ski.io.imread(file_path)\n",
    "            scale=output_resolution/max(input_image.shape[:2])\n",
    "\n",
    "            if len(input_image.shape)==3:\n",
    "                #print(final_image.shape[2])\n",
    "                pass\n",
    "            elif len(input_image.shape)==2:\n",
    "                input_image=ski.color.gray2rgb(input_image)\n",
    "                print(\"different dimentions\")\n",
    "                wrong_images.write(\"different dimentions: \"+file_path + \"\\n\")\n",
    "                #continue\n",
    "            elif len(input_image.shape)==4:\n",
    "                #this doesnt work\n",
    "                input_image=input_image[:,:,:3]\n",
    "\n",
    "            final_image=np.full((output_resolution,output_resolution,3),(0.0,0.0,0.0))\n",
    "            resized_image=ski.transform.rescale(input_image,scale,multichannel=True)\n",
    "\n",
    "            final_image[:resized_image.shape[0],:resized_image.shape[1]] += resized_image #add image to empty border\n",
    "            #change to uint8 because debug error\n",
    "            final_image=ski.img_as_ubyte(final_image)\n",
    "            ski.io.imsave((\"%s\\\\\"%output_folder)+file_path,final_image)\n",
    "\n",
    "        except Exception as e:\n",
    "            #ImageViewer(input_image).show() #this shows\n",
    "            print(input_image.shape)\n",
    "            print(e)\n",
    "            wrong_images.write(\"exception: \"+file_path + \"\\n\")\n",
    "    wrong_images.close()"
   ]
  },
  {
   "cell_type": "code",
   "execution_count": 4,
   "metadata": {},
   "outputs": [
    {
     "ename": "NameError",
     "evalue": "name 'img_128' is not defined",
     "output_type": "error",
     "traceback": [
      "\u001b[1;31m---------------------------------------------------------------------------\u001b[0m",
      "\u001b[1;31mNameError\u001b[0m                                 Traceback (most recent call last)",
      "\u001b[1;32m<ipython-input-4-a99f73a3a2df>\u001b[0m in \u001b[0;36m<module>\u001b[1;34m\u001b[0m\n\u001b[1;32m----> 1\u001b[1;33m \u001b[0mstandarize\u001b[0m\u001b[1;33m(\u001b[0m\u001b[1;36m128\u001b[0m\u001b[1;33m,\u001b[0m\u001b[0mimg_128\u001b[0m\u001b[1;33m)\u001b[0m\u001b[1;33m\u001b[0m\u001b[1;33m\u001b[0m\u001b[0m\n\u001b[0m",
      "\u001b[1;31mNameError\u001b[0m: name 'img_128' is not defined"
     ]
    }
   ],
   "source": [
    "standarize(128,\"img_128\")"
   ]
  },
  {
   "cell_type": "code",
   "execution_count": 1,
   "metadata": {},
   "outputs": [
    {
     "name": "stdout",
     "output_type": "stream",
     "text": "xd\n"
    }
   ],
   "source": [
    "print(\"xd\")"
   ]
  },
  {
   "cell_type": "code",
   "execution_count": null,
   "metadata": {},
   "outputs": [],
   "source": []
  }
 ],
 "metadata": {},
 "nbformat": 4,
 "nbformat_minor": 2
}
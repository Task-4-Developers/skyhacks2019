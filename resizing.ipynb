{
 "cells": [
  {
   "cell_type": "code",
   "execution_count": 3,
   "metadata": {},
   "outputs": [
    {
     "name": "stderr",
     "output_type": "stream",
     "text": "C:\\Users\\Adam\\AppData\\Local\\Programs\\Python\\Python37\\lib\\site-packages\\ipykernel_launcher.py:2: UserWarning: Viewer requires Qt\n  \n"
    }
   ],
   "source": [
    "import skimage as ski\n",
    "from skimage.viewer import ImageViewer\n",
    "\n",
    "import matplotlib.pyplot as plt\n",
    "import numpy as np\n",
    "import os\n",
    "import pandas as pd"
   ]
  },
  {
   "cell_type": "code",
   "execution_count": 9,
   "metadata": {},
   "outputs": [
    {
     "name": "stdout",
     "output_type": "stream",
     "text": "dziala\nC:\\Users\\pawel\\Anaconda3\\lib\\site-packages\\skimage\\transform\\_warps.py:23: UserWarning: The default multichannel argument (None) is deprecated.  Please specify either True or False explicitly.  multichannel will default to False starting with release 0.16.\n  warn('The default multichannel argument (None) is deprecated.  Please '\nC:\\Users\\pawel\\Anaconda3\\lib\\site-packages\\skimage\\util\\dtype.py:135: UserWarning: Possible precision loss when converting from float64 to uint8\n  .format(dtypeobj_in, dtypeobj_out))\nwrong file: B5411CBEBDEBFDF3D19E5C5A1B6EA2DE5322AFAB.jpg\nwrong file: BFC14A70DD318CA6C9709AD11B07B560D3DCDB3A.jpg\nwrong file: 59E4D2B3A478AED6332B36781C30AFBA7953BF98.jpg\nwrong file: 988551E2B2E3C4F49DC6CC13684320812DC9FE6B.jpg\nwrong file: 0135858CA516769266F20789A3578A6CB2719A87.jpg\nwrong file: 26457575732AAFE9A8B8944139DD024D53F3311E.jpg\nwrong file: E960B56E4BD5BA3E1A14C0EE0E175A29E5C3281E.jpg\nwrong file: 81614CF581598FD0F3EDFD84679CFD93AD125742.jpg\nwrong file: 7C793BA580E1B7650B95BB51B3260142AA0AF5F9.jpg\nwrong file: 6CB618D7E01A7D7AEACA1B8ADF84C4771D1222F2.jpg\nwrong file: 2B442BCE0F9FD36B5C2AD22FF29B8DFF142D30D8.jpg\nwrong file: 03F55ED818063EFB4E82789B0E11D906FAAA20CB.jpg\nwrong file: E644267A798D581ED91989A95B3AB0F08D949871.jpg\nwrong file: 26457575732AAFE9A8B8F8728FF6CBE77807AAC5.jpg\nwrong file: 57CEF20107A4ECEEC0337EEBC9DD2552099445E1.jpg\nwrong file: 567B3B94E723E4C68D169152596315F6286B8F39.jpg\nwrong file: 67E6F21BA1A9E039392B31EB76F73CDA1E33E57D.jpg\nwrong file: 03078F257F98EDD8C0CD38904E502AF85778423F.jpg\nwrong file: 03078F257F98EDD8C0CD34D44D83BB9685F71972.jpg\nwrong file: F1567AA05D62086161E426A1453E38276A789B87.jpg\nwrong file: 567B3B94E723E4C68D165B3A8BA8E89C7EDC8204.jpg\nwrong file: 03078F257F98EDD8C0CD8C0ABC07A34AA7ED9E08.jpg\nwrong file: 03078F257F98EDD8C0CD6BB4353F62675A65797B.jpg\nwrong file: 39DCB7AF95384345F2867B678D1887C216F7600B.jpg\nwrong file: 051020222D17522FDED58A90312D6E5F2E51E497.jpg\nwrong file: 245F8CF49C6D558FB057EFCD55ABEC63D3DFFBDB.jpg\nwrong file: 9C1DFCFE738AE40EBAD22814A861062F29A05FDC.jpg\nwrong file: D66880EB4A00468814155B6CA6E0813352DA99D2.jpg\nwrong file: A18F2538F7F17EA73969A88B66FE9F4BF4922521.jpg\nwrong file: A5D0A43156861E061D3D1366F1D35764D54CB519.jpg\nwrong file: BE3CEB8611B84419DB27A065962A34235E2704D1.jpg\nwrong file: D0BC97003E03CA0C124BE29A040FFEA2CE4FE82E.jpg\n"
    }
   ],
   "source": [
    "#this will loop though all files\n",
    "\n",
    "print(\"dziala\")\n",
    "\n",
    "file = 'dataset_github/2019/main/labels.csv'\n",
    "names = ['filename','standard','task2_class','tech_cond','Bathroom','Bathroom cabinet','Bathroom sink','Bathtub','Bed','Bed frame','Bed sheet','Bedroom','Cabinetry','Ceiling','Chair','Chandelier','Chest of drawers','Coffee table','Couch','Countertop','Cupboard','Curtain','Dining room','Door','Drawer','Facade','Fireplace','Floor','Furniture','Grass','Hardwood','House','Kitchen','Kitchen & dining room table','Kitchen stove','Living room','Mattress','Nightstand','Plumbing fixture','Property','Real estate','Refrigerator','Roof','Room','Rural area','Shower','Sink','Sky','Table','Tablecloth','Tap','Tile','Toilet','Tree','Urban area','Wall','Window']\n",
    "labels_data = pd.read_csv(file, names=names)\n",
    "\n",
    "labels_data = labels_data.drop(labels_data.index[0])\n",
    "\n",
    "def find(name, path):\n",
    "    for root, dirs, files in os.walk(path):\n",
    "        if name in files:\n",
    "            return os.path.join(root, name)\n",
    "\n",
    "output_resolution=512 # resolution x resolution\n",
    "\n",
    "wrong_images=open(\"wrong_images.txt\",'w')\n",
    "for filename in labels_data['filename']:\n",
    "    file_path = find(filename, \"dataset_pendrive/\")\n",
    "\n",
    "    #do something with the file\n",
    "    #print(file_path)\n",
    "    try:\n",
    "        input_image=ski.io.imread(file_path)\n",
    "        scale=output_resolution/max(input_image.shape[:2])\n",
    "\n",
    "        resized_image=ski.transform.rescale(input_image,scale)\n",
    "        final_image=np.full((output_resolution,output_resolution,3),(0.0,0.0,0.0))\n",
    "        f_i_t=ski.transform.rescale(input_image,scale)\n",
    "        final_image[:f_i_t.shape[0],:f_i_t.shape[1]] += f_i_t #add image to empty border\n",
    "\n",
    "        #change to uint8 because debug error\n",
    "        final_image=ski.img_as_ubyte(final_image)\n",
    "        ski.io.imsave(\"resized_images/\"+filename,final_image)\n",
    "    except:\n",
    "        print(\"wrong file: \"+filename)\n",
    "        wrong_images.write(file_path+\"\\n\")\n",
    "wrong_images.close()"
   ]
  },
  {
   "cell_type": "markdown",
   "execution_count": null,
   "metadata": {},
   "outputs": [],
   "source": [
    "this is just a test cell"
   ]
  },
  {
   "cell_type": "code",
   "execution_count": 8,
   "metadata": {},
   "outputs": [
    {
     "name": "stdout",
     "output_type": "stream",
     "text": "dataset_pendrive\\main task\\input\\test_1\\0A4915AC8C380020584A58784D4800D84901AEA2.jpg\n(997, 810)\n0.802407221664995\n"
    }
   ],
   "source": [
    "#this is just a test cell\n",
    "\n",
    "imagename=\"0A4915AC8C380020584A58784D4800D84901AEA2\"\n",
    "filename=\"dataset_pendrive\\\\main task\\\\input\\\\test_1\\\\\"+imagename+\".jpg\"\n",
    "#ImageViewer(input_image).show() #this shows\n",
    "input_image=ski.io.imread(filename)\n",
    "print(filename)\n",
    "output_resolution=800 # 800x800\n",
    "\n",
    "image_sizes=input_image.shape[:2]\n",
    "print(image_sizes)\n",
    "scale=output_resolution/max(input_image.shape[:2])\n",
    "print(scale)\n",
    "#this resizes to 0.5 scale\n",
    "resized_image=ski.transform.rescale(input_image,scale)\n",
    "\n",
    "#this adds borders\n",
    "final_image=np.full((output_resolution,output_resolution,3),(0.0,0.0,0.0))\n",
    "f_i_t=ski.transform.rescale(input_image,scale)\n",
    "final_image[:f_i_t.shape[0],:f_i_t.shape[1]] += f_i_t #add image to empty border\n",
    "\n",
    "final_image=ski.img_as_ubyte(final_image)\n",
    "ski.io.imsave(\"test_folder/\"+imagename+\".jpg\",final_image)"
   ]
  },
  {
   "cell_type": "code",
   "execution_count": null,
   "metadata": {},
   "outputs": [],
   "source": [
    "#monochromatic\n",
    "\n",
    "output_resolution=512 # resolution x resolution\n",
    "\n",
    "wrong_images=open(\"wrong_images.txt\",'r')\n",
    "\n",
    "for line in wrong_images.readlines:\n",
    "\n",
    "\n",
    "\n",
    "    #do something with the file\n",
    "    #print(file_path)\n",
    "    try:\n",
    "        input_image=ski.io.imread(file_path)\n",
    "        scale=output_resolution/max(input_image.shape[:2])\n",
    "\n",
    "        resized_image=ski.transform.rescale(input_image,scale)\n",
    "        final_image=np.full((output_resolution,output_resolution,1),(0.0))\n",
    "        f_i_t=ski.transform.rescale(input_image,scale)\n",
    "        final_image[:f_i_t.shape[0],:f_i_t.shape[1]] += f_i_t #add image to empty border\n",
    "\n",
    "        #change to uint8 because debug error\n",
    "        final_image=ski.img_as_ubyte(final_image)\n",
    "        ski.io.imsave(\"resized_images/\"+filename,final_image)\n",
    "    except:\n",
    "        print(\"wrong file: \"+filename)\n",
    "        wrong_images.write(file_path+\"\\n\")\n",
    "wrong_images.close()\n",
    "\n"
   ]
  }
 ],
 "metadata": {},
 "nbformat": 4,
 "nbformat_minor": 2
}
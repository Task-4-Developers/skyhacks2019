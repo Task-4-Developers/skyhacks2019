{
 "cells": [
  {
   "cell_type": "code",
   "execution_count": 7,
   "metadata": {},
   "outputs": [],
   "source": [
    "import skimage as ski\n",
    "from skimage.viewer import ImageViewer\n",
    "import matplotlib.pyplot as plt\n",
    "import numpy as np\n",
    "import os\n",
    "import pandas as pd"
   ]
  },
  {
   "cell_type": "code",
   "execution_count": 18,
   "metadata": {},
   "outputs": [],
   "source": [
    "#this will loop though all files\n",
    "def standarize(output_resolution,output_folder):\n",
    "    print(\"dziala\")\n",
    "\n",
    "    file = 'dataset_github/2019/main/labels.csv'\n",
    "    names = ['filename','standard','task2_class','tech_cond','Bathroom','Bathroom cabinet','Bathroom sink','Bathtub','Bed','Bed frame','Bed sheet','Bedroom','Cabinetry','Ceiling','Chair','Chandelier','Chest of drawers','Coffee table','Couch','Countertop','Cupboard','Curtain','Dining room','Door','Drawer','Facade','Fireplace','Floor','Furniture','Grass','Hardwood','House','Kitchen','Kitchen & dining room table','Kitchen stove','Living room','Mattress','Nightstand','Plumbing fixture','Property','Real estate','Refrigerator','Roof','Room','Rural area','Shower','Sink','Sky','Table','Tablecloth','Tap','Tile','Toilet','Tree','Urban area','Wall','Window']\n",
    "    labels_data = pd.read_csv(file, names=names)\n",
    "\n",
    "    labels_data = labels_data.drop(labels_data.index[0])\n",
    "\n",
    "    def find(name, path):\n",
    "        for root, dirs, files in os.walk(path):\n",
    "            if name in files:\n",
    "                return os.path.join(root, name)\n",
    "\n",
    "    new_images=0\n",
    "    wrong_images_count=0\n",
    "    wrong_images=open(\"wrong_images.txt\",'w')\n",
    "    for filename in labels_data['filename']:\n",
    "        file_path = find(filename, \"dataset_pendrive\\\\\")\n",
    "\n",
    "        #this ignores already processed images\n",
    "        if True:\n",
    "            already_processed=find(filename, \"%s\\\\dataset_pendrive\\\\\"%output_folder)\n",
    "            if already_processed!=None:\n",
    "                continue\n",
    "            new_images+=1\n",
    "\n",
    "        try:\n",
    "            input_image=ski.io.imread(file_path)\n",
    "            scale=output_resolution/max(input_image.shape[:2])\n",
    "\n",
    "            if len(input_image.shape)==3:\n",
    "                #print(final_image.shape[2])\n",
    "                pass\n",
    "            elif len(input_image.shape)==2:\n",
    "                input_image=ski.color.gray2rgb(input_image)\n",
    "                # print(\"different dimentions\")\n",
    "                # wrong_images.write(\"different dimentions: \"+file_path + \"\\n\")\n",
    "                #continue\n",
    "            elif len(input_image.shape)==4:\n",
    "                #this doesnt work\n",
    "                input_image=input_image[:,:,:3]\n",
    "\n",
    "            final_image=np.full((output_resolution,output_resolution,3),(0.0,0.0,0.0))\n",
    "            resized_image=ski.transform.rescale(input_image,scale,multichannel=True)\n",
    "\n",
    "            final_image[:resized_image.shape[0],:resized_image.shape[1]] += resized_image #add image to empty border\n",
    "            #change to uint8 because debug error\n",
    "            final_image=ski.img_as_ubyte(final_image)\n",
    "            ski.io.imsave((\"%s\\\\\"%output_folder)+file_path,final_image)\n",
    "\n",
    "        except Exception as e:\n",
    "            #ImageViewer(input_image).show() #this shows\n",
    "            print(input_image.shape)\n",
    "            print(e)\n",
    "            wrong_images.write(\"exception: \"+file_path + \"\\n\")\n",
    "            wrong_images_count+=1\n",
    "    wrong_images.close()\n",
    "    print(\"new images: %d\"%new_images)\n",
    "    print(\"wrong images: %d\"%wrong_images_count)"
   ]
  },
  {
   "cell_type": "code",
   "execution_count": 19,
   "metadata": {},
   "outputs": [
    {
     "name": "stdout",
     "output_type": "stream",
     "text": "dziala\n(788, 1050, 4)\noperands could not be broadcast together with shapes (96,128,3) (96,128,4) (96,128,3) \n(1176, 1270, 4)\noperands could not be broadcast together with shapes (119,128,3) (119,128,4) (119,128,3) \n(1080, 1920, 4)\noperands could not be broadcast together with shapes (72,128,3) (72,128,4) (72,128,3) \n(534, 800, 4)\noperands could not be broadcast together with shapes (85,128,3) (85,128,4) (85,128,3) \n(422, 960, 4)\noperands could not be broadcast together with shapes (56,128,3) (56,128,4) (56,128,3) \nnew images: 5\nwrong images: 5\n"
    }
   ],
   "source": [
    "standarize(128,\"img_128\")"
   ]
  },
  {
   "cell_type": "code",
   "execution_count": null,
   "metadata": {},
   "outputs": [],
   "source": [
    "    "
   ]
  }
 ],
 "metadata": {},
 "nbformat": 4,
 "nbformat_minor": 2
}
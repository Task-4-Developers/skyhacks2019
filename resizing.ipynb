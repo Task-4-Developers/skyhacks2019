{
 "cells": [
  {
   "cell_type": "code",
   "execution_count": 3,
   "metadata": {},
   "outputs": [
    {
     "name": "stderr",
     "output_type": "stream",
     "text": "C:\\Users\\Adam\\AppData\\Local\\Programs\\Python\\Python37\\lib\\site-packages\\ipykernel_launcher.py:2: UserWarning: Viewer requires Qt\n  \n"
    }
   ],
   "source": [
    "import skimage as ski\n",
    "from skimage.viewer import ImageViewer\n",
    "\n",
    "import matplotlib.pyplot as plt\n",
    "import numpy as np\n",
    "import os\n",
    "import pandas as pd"
   ]
  },
  {
   "cell_type": "code",
   "execution_count": 8,
   "metadata": {},
   "outputs": [
    {
     "name": "stdout",
     "output_type": "stream",
     "text": "./dataset_pendrive/main task/input/test_1/0A4915AC8C380020584A58784D4800D84901AEA2.jpg\n"
    }
   ],
   "source": [
    "#this is just a test cell\n",
    "\n",
    "imagename=\"0A4915AC8C380020584A58784D4800D84901AEA2\"\n",
    "filename=\"dataset_pendrive\\\\main task\\\\input\\\\test_1\\\\\"+imagename+\".jpg\"\n",
    "#ImageViewer(input_image).show() #this shows\n",
    "input_image=ski.io.imread(filename)\n",
    "print(filename)\n",
    "output_resolution=800 # 800x800\n",
    "\n",
    "image_sizes=input_image.shape[:2]\n",
    "print(image_sizes)\n",
    "scale=output_resolution/max(input_image.shape[:2])\n",
    "print(scale)\n",
    "#this resizes to 0.5 scale\n",
    "resized_image=ski.transform.rescale(input_image,scale)\n",
    "\n",
    "#this adds borders\n",
    "final_image=np.full((output_resolution,output_resolution,3),(0.0,0.0,0.0))\n",
    "f_i_t=ski.transform.rescale(input_image,scale)\n",
    "final_image[:f_i_t.shape[0],:f_i_t.shape[1]] += f_i_t #add image to empty border\n",
    "\n",
    "final_image=ski.img_as_ubyte(final_image)\n",
    "ski.io.imsave(\"test_folder/\"+imagename+\".jpg\",final_image)"
   ]
  },
  {
   "cell_type": "code",
   "execution_count": 9,
   "metadata": {},
   "outputs": [
    {
     "name": "stdout",
     "output_type": "stream",
     "text": "dziala\nC:\\Users\\pawel\\Anaconda3\\lib\\site-packages\\skimage\\transform\\_warps.py:23: UserWarning: The default multichannel argument (None) is deprecated.  Please specify either True or False explicitly.  multichannel will default to False starting with release 0.16.\n  warn('The default multichannel argument (None) is deprecated.  Please '\nC:\\Users\\pawel\\Anaconda3\\lib\\site-packages\\skimage\\util\\dtype.py:135: UserWarning: Possible precision loss when converting from float64 to uint8\n  .format(dtypeobj_in, dtypeobj_out))\nwrong file: B5411CBEBDEBFDF3D19E5C5A1B6EA2DE5322AFAB.jpg\n"
    }
   ],
   "source": [
    "#this will loop though all files\n",
    "\n",
    "print(\"dziala\")\n",
    "\n",
    "file = 'dataset_github/2019/main/labels.csv'\n",
    "names = ['filename','standard','task2_class','tech_cond','Bathroom','Bathroom cabinet','Bathroom sink','Bathtub','Bed','Bed frame','Bed sheet','Bedroom','Cabinetry','Ceiling','Chair','Chandelier','Chest of drawers','Coffee table','Couch','Countertop','Cupboard','Curtain','Dining room','Door','Drawer','Facade','Fireplace','Floor','Furniture','Grass','Hardwood','House','Kitchen','Kitchen & dining room table','Kitchen stove','Living room','Mattress','Nightstand','Plumbing fixture','Property','Real estate','Refrigerator','Roof','Room','Rural area','Shower','Sink','Sky','Table','Tablecloth','Tap','Tile','Toilet','Tree','Urban area','Wall','Window']\n",
    "labels_data = pd.read_csv(file, names=names)\n",
    "\n",
    "labels_data = labels_data.drop(labels_data.index[0])\n",
    "\n",
    "def find(name, path):\n",
    "    for root, dirs, files in os.walk(path):\n",
    "        if name in files:\n",
    "            return os.path.join(root, name)\n",
    "\n",
    "output_resolution=512 # resolution x resolution\n",
    "\n",
    "wrong_images=open(\"wrong_images.txt\",'w')\n",
    "for filename in labels_data['filename']:\n",
    "    file_path = find(filename, \"dataset_pendrive/\")\n",
    "\n",
    "    #do something with the file\n",
    "    #print(file_path)\n",
    "    try:\n",
    "        input_image=ski.io.imread(file_path)\n",
    "        scale=output_resolution/max(input_image.shape[:2])\n",
    "\n",
    "        resized_image=ski.transform.rescale(input_image,scale)\n",
    "        final_image=np.full((output_resolution,output_resolution,3),(0.0,0.0,0.0))\n",
    "        f_i_t=ski.transform.rescale(input_image,scale)\n",
    "        final_image[:f_i_t.shape[0],:f_i_t.shape[1]] += f_i_t #add image to empty border\n",
    "\n",
    "        #change to uint8 because debug error\n",
    "        final_image=ski.img_as_ubyte(final_image)\n",
    "        ski.io.imsave(\"resized_images/\"+filename,final_image)\n",
    "    except:\n",
    "        print(\"wrong file: \"+filename)\n",
    "        wrong_images.write(file_path+\"\\n\")\n",
    "wrong_images.close()"
   ]
  },
  {
   "cell_type": "code",
   "execution_count": null,
   "metadata": {},
   "outputs": [],
   "source": [
    "#monochromatic\n",
    "\n",
    "output_resolution=512 # resolution x resolution\n",
    "\n",
    "wrong_images=open(\"wrong_images.txt\",'r')\n",
    "\n",
    "for line in wrong_images.readlines:\n",
    "\n",
    "\n",
    "\n",
    "    #do something with the file\n",
    "    #print(file_path)\n",
    "    try:\n",
    "        input_image=ski.io.imread(file_path)\n",
    "        scale=output_resolution/max(input_image.shape[:2])\n",
    "\n",
    "        resized_image=ski.transform.rescale(input_image,scale)\n",
    "        final_image=np.full((output_resolution,output_resolution,1),(0.0))\n",
    "        f_i_t=ski.transform.rescale(input_image,scale)\n",
    "        final_image[:f_i_t.shape[0],:f_i_t.shape[1]] += f_i_t #add image to empty border\n",
    "\n",
    "        #change to uint8 because debug error\n",
    "        final_image=ski.img_as_ubyte(final_image)\n",
    "        ski.io.imsave(\"resized_images/\"+filename,final_image)\n",
    "    except:\n",
    "        print(\"wrong file: \"+filename)\n",
    "        wrong_images.write(file_path+\"\\n\")\n",
    "wrong_images.close()\n",
    "\n"
   ]
  }
 ],
 "metadata": {},
 "nbformat": 4,
 "nbformat_minor": 2
}
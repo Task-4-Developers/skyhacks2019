{
 "nbformat": 4,
 "nbformat_minor": 2,
 "metadata": {
  "language_info": {
   "name": "python",
   "codemirror_mode": {
    "name": "ipython",
    "version": 3
   }
  },
  "orig_nbformat": 2,
  "file_extension": ".py",
  "mimetype": "text/x-python",
  "name": "python",
  "npconvert_exporter": "python",
  "pygments_lexer": "ipython3",
  "version": 3
 },
 "cells": [
  {
   "cell_type": "code",
   "execution_count": 67,
   "metadata": {},
   "outputs": [],
   "source": [
    "import pandas as pd"
   ]
  },
  {
   "cell_type": "code",
   "execution_count": 68,
   "metadata": {},
   "outputs": [],
   "source": [
    "# Read the dataset\n",
    "\n",
    "file = 'dataset_github/2019/main/labels.csv'\n",
    "names = ['filename','standard','task2_class','tech_cond','Bathroom','Bathroom cabinet','Bathroom sink','Bathtub','Bed','Bed frame','Bed sheet','Bedroom','Cabinetry','Ceiling','Chair','Chandelier','Chest of drawers','Coffee table','Couch','Countertop','Cupboard','Curtain','Dining room','Door','Drawer','Facade','Fireplace','Floor','Furniture','Grass','Hardwood','House','Kitchen','Kitchen & dining room table','Kitchen stove','Living room','Mattress','Nightstand','Plumbing fixture','Property','Real estate','Refrigerator','Roof','Room','Rural area','Shower','Sink','Sky','Table','Tablecloth','Tap','Tile','Toilet','Tree','Urban area','Wall','Window']\n",
    "labels_data = pd.read_csv(file, names=names)"
   ]
  },
  {
   "cell_type": "code",
   "execution_count": 69,
   "metadata": {},
   "outputs": [
    {
     "name": "stdout",
     "output_type": "stream",
     "text": "(2742, 57)\n"
    }
   ],
   "source": [
    "print(labels_data.shape)"
   ]
  },
  {
   "cell_type": "code",
   "execution_count": 70,
   "metadata": {},
   "outputs": [
    {
     "data": {
      "text/html": "<div>\n<style scoped>\n    .dataframe tbody tr th:only-of-type {\n        vertical-align: middle;\n    }\n\n    .dataframe tbody tr th {\n        vertical-align: top;\n    }\n\n    .dataframe thead th {\n        text-align: right;\n    }\n</style>\n<table border=\"1\" class=\"dataframe\">\n  <thead>\n    <tr style=\"text-align: right;\">\n      <th></th>\n      <th>filename</th>\n      <th>standard</th>\n      <th>task2_class</th>\n      <th>tech_cond</th>\n      <th>Bathroom</th>\n      <th>Bathroom cabinet</th>\n      <th>Bathroom sink</th>\n      <th>Bathtub</th>\n      <th>Bed</th>\n      <th>Bed frame</th>\n      <th>...</th>\n      <th>Sky</th>\n      <th>Table</th>\n      <th>Tablecloth</th>\n      <th>Tap</th>\n      <th>Tile</th>\n      <th>Toilet</th>\n      <th>Tree</th>\n      <th>Urban area</th>\n      <th>Wall</th>\n      <th>Window</th>\n    </tr>\n  </thead>\n  <tbody>\n    <tr>\n      <th>0</th>\n      <td>filename</td>\n      <td>standard</td>\n      <td>task2_class</td>\n      <td>tech_cond</td>\n      <td>Bathroom</td>\n      <td>Bathroom cabinet</td>\n      <td>Bathroom sink</td>\n      <td>Bathtub</td>\n      <td>Bed</td>\n      <td>Bed frame</td>\n      <td>...</td>\n      <td>Sky</td>\n      <td>Table</td>\n      <td>Tablecloth</td>\n      <td>Tap</td>\n      <td>Tile</td>\n      <td>Toilet</td>\n      <td>Tree</td>\n      <td>Urban area</td>\n      <td>Wall</td>\n      <td>Window</td>\n    </tr>\n    <tr>\n      <th>1</th>\n      <td>A457DA6E80FFBD81B32136F30E3A90E76374F8E6.jpg</td>\n      <td>3</td>\n      <td>validation</td>\n      <td>3</td>\n      <td>0</td>\n      <td>0</td>\n      <td>0</td>\n      <td>0</td>\n      <td>1</td>\n      <td>1</td>\n      <td>...</td>\n      <td>0</td>\n      <td>0</td>\n      <td>0</td>\n      <td>0</td>\n      <td>0</td>\n      <td>0</td>\n      <td>0</td>\n      <td>0</td>\n      <td>1</td>\n      <td>0</td>\n    </tr>\n    <tr>\n      <th>2</th>\n      <td>68CAF64A6D3FE5E4F5190753C9C2D0EA95DC4ECC.jpg</td>\n      <td>3</td>\n      <td>validation</td>\n      <td>3</td>\n      <td>0</td>\n      <td>0</td>\n      <td>0</td>\n      <td>0</td>\n      <td>0</td>\n      <td>0</td>\n      <td>...</td>\n      <td>0</td>\n      <td>1</td>\n      <td>0</td>\n      <td>0</td>\n      <td>0</td>\n      <td>0</td>\n      <td>0</td>\n      <td>0</td>\n      <td>1</td>\n      <td>0</td>\n    </tr>\n  </tbody>\n</table>\n<p>3 rows × 57 columns</p>\n</div>",
      "text/plain": "                                       filename  standard  task2_class  \\\n0                                      filename  standard  task2_class   \n1  A457DA6E80FFBD81B32136F30E3A90E76374F8E6.jpg         3   validation   \n2  68CAF64A6D3FE5E4F5190753C9C2D0EA95DC4ECC.jpg         3   validation   \n\n   tech_cond  Bathroom  Bathroom cabinet  Bathroom sink  Bathtub  Bed  \\\n0  tech_cond  Bathroom  Bathroom cabinet  Bathroom sink  Bathtub  Bed   \n1          3         0                 0              0        0    1   \n2          3         0                 0              0        0    0   \n\n   Bed frame  ...  Sky  Table  Tablecloth  Tap  Tile  Toilet  Tree  \\\n0  Bed frame  ...  Sky  Table  Tablecloth  Tap  Tile  Toilet  Tree   \n1          1  ...    0      0           0    0     0       0     0   \n2          0  ...    0      1           0    0     0       0     0   \n\n   Urban area  Wall  Window  \n0  Urban area  Wall  Window  \n1           0     1       0  \n2           0     1       0  \n\n[3 rows x 57 columns]"
     },
     "execution_count": 70,
     "metadata": {},
     "output_type": "execute_result"
    }
   ],
   "source": [
    "labels_data.head(3)"
   ]
  },
  {
   "cell_type": "code",
   "execution_count": 71,
   "metadata": {},
   "outputs": [],
   "source": [
    "# Clean the dataset\n",
    "\n",
    "labels_data = labels_data.drop(labels=[\"filename\", \"standard\", \"tech_cond\", \"Bathroom\", \"Bedroom\", \"Living room\", \"Kitchen\", \"Dining room\", \"House\"], axis=1)\n",
    "\n",
    "labels_data = labels_data.drop(labels_data.index[0])\n",
    "\n",
    "labels_data = labels_data[labels_data[\"task2_class\"] !=\"validation\"]"
   ]
  },
  {
   "cell_type": "code",
   "execution_count": 72,
   "metadata": {},
   "outputs": [
    {
     "data": {
      "text/html": "<div>\n<style scoped>\n    .dataframe tbody tr th:only-of-type {\n        vertical-align: middle;\n    }\n\n    .dataframe tbody tr th {\n        vertical-align: top;\n    }\n\n    .dataframe thead th {\n        text-align: right;\n    }\n</style>\n<table border=\"1\" class=\"dataframe\">\n  <thead>\n    <tr style=\"text-align: right;\">\n      <th></th>\n      <th>task2_class</th>\n      <th>Bathroom cabinet</th>\n      <th>Bathroom sink</th>\n      <th>Bathtub</th>\n      <th>Bed</th>\n      <th>Bed frame</th>\n      <th>Bed sheet</th>\n      <th>Cabinetry</th>\n      <th>Ceiling</th>\n      <th>Chair</th>\n      <th>...</th>\n      <th>Sky</th>\n      <th>Table</th>\n      <th>Tablecloth</th>\n      <th>Tap</th>\n      <th>Tile</th>\n      <th>Toilet</th>\n      <th>Tree</th>\n      <th>Urban area</th>\n      <th>Wall</th>\n      <th>Window</th>\n    </tr>\n  </thead>\n  <tbody>\n    <tr>\n      <th>552</th>\n      <td>house</td>\n      <td>0</td>\n      <td>0</td>\n      <td>0</td>\n      <td>0</td>\n      <td>0</td>\n      <td>0</td>\n      <td>0</td>\n      <td>0</td>\n      <td>0</td>\n      <td>...</td>\n      <td>0</td>\n      <td>0</td>\n      <td>0</td>\n      <td>0</td>\n      <td>0</td>\n      <td>0</td>\n      <td>0</td>\n      <td>0</td>\n      <td>0</td>\n      <td>0</td>\n    </tr>\n    <tr>\n      <th>553</th>\n      <td>house</td>\n      <td>0</td>\n      <td>0</td>\n      <td>0</td>\n      <td>0</td>\n      <td>0</td>\n      <td>0</td>\n      <td>0</td>\n      <td>0</td>\n      <td>0</td>\n      <td>...</td>\n      <td>0</td>\n      <td>0</td>\n      <td>0</td>\n      <td>0</td>\n      <td>0</td>\n      <td>0</td>\n      <td>0</td>\n      <td>0</td>\n      <td>0</td>\n      <td>0</td>\n    </tr>\n    <tr>\n      <th>554</th>\n      <td>house</td>\n      <td>0</td>\n      <td>0</td>\n      <td>0</td>\n      <td>0</td>\n      <td>0</td>\n      <td>0</td>\n      <td>0</td>\n      <td>0</td>\n      <td>0</td>\n      <td>...</td>\n      <td>0</td>\n      <td>0</td>\n      <td>0</td>\n      <td>0</td>\n      <td>0</td>\n      <td>0</td>\n      <td>1</td>\n      <td>0</td>\n      <td>0</td>\n      <td>0</td>\n    </tr>\n  </tbody>\n</table>\n<p>3 rows × 48 columns</p>\n</div>",
      "text/plain": "    task2_class Bathroom cabinet Bathroom sink Bathtub Bed Bed frame  \\\n552       house                0             0       0   0         0   \n553       house                0             0       0   0         0   \n554       house                0             0       0   0         0   \n\n    Bed sheet Cabinetry Ceiling Chair  ... Sky Table Tablecloth Tap Tile  \\\n552         0         0       0     0  ...   0     0          0   0    0   \n553         0         0       0     0  ...   0     0          0   0    0   \n554         0         0       0     0  ...   0     0          0   0    0   \n\n    Toilet Tree Urban area Wall Window  \n552      0    0          0    0      0  \n553      0    0          0    0      0  \n554      0    1          0    0      0  \n\n[3 rows x 48 columns]"
     },
     "execution_count": 72,
     "metadata": {},
     "output_type": "execute_result"
    }
   ],
   "source": [
    "labels_data.head(3)"
   ]
  },
  {
   "cell_type": "code",
   "execution_count": 73,
   "metadata": {},
   "outputs": [],
   "source": [
    "from sklearn import model_selection\n",
    "\n",
    "from sklearn.linear_model import LogisticRegression\n",
    "from sklearn.tree import DecisionTreeClassifier\n",
    "from sklearn.neighbors import KNeighborsClassifier\n",
    "from sklearn.discriminant_analysis import LinearDiscriminantAnalysis\n",
    "from sklearn.naive_bayes import GaussianNB\n",
    "from sklearn.svm import SVC"
   ]
  },
  {
   "cell_type": "code",
   "execution_count": 74,
   "metadata": {},
   "outputs": [],
   "source": [
    "# Prepare sets for training and validating models\n",
    "\n",
    "array = labels_data.values\n",
    "\n",
    "X = array[:,1:]\n",
    "Y = array[:,0]\n",
    "\n",
    "validation_size = 0.2\n",
    "seed = 7\n",
    "scoring = 'f1_weighted'\n",
    "\n",
    "X_train, X_validation, Y_train, Y_validation = model_selection.train_test_split(X, Y, test_size=validation_size, random_state=seed)"
   ]
  },
  {
   "cell_type": "code",
   "execution_count": 75,
   "metadata": {},
   "outputs": [
    {
     "name": "stdout",
     "output_type": "stream",
     "text": "LR: 0.849707 (0.030337)\nLDA: 0.834992 (0.027580)\nKNN: 0.818447 (0.017601)\nCART: 0.832468 (0.028871)\nNB: 0.725673 (0.029050)\nSVM: 0.830176 (0.031806)\n"
    }
   ],
   "source": [
    "# Test a few models and compare their results\n",
    "\n",
    "models = []\n",
    "models.append(('LR', LogisticRegression(solver='liblinear', multi_class='ovr')))\n",
    "models.append(('LDA', LinearDiscriminantAnalysis()))\n",
    "models.append(('KNN', KNeighborsClassifier()))\n",
    "models.append(('CART', DecisionTreeClassifier()))\n",
    "models.append(('NB', GaussianNB()))\n",
    "models.append(('SVM', SVC(gamma='auto')))\n",
    "\n",
    "# Evaluate each model in turn\n",
    "results = []\n",
    "names = []\n",
    "for name, model in models:\n",
    "    kfold = model_selection.KFold(n_splits=10, random_state=seed)\n",
    "    cv_results = model_selection.cross_val_score(model, X_train, Y_train, cv=kfold, scoring=scoring)\n",
    "    results.append(cv_results)\n",
    "    names.append(name)\n",
    "    msg = \"%s: %f (%f)\" % (name, cv_results.mean(), cv_results.std())\n",
    "    print(msg)"
   ]
  },
  {
   "cell_type": "code",
   "execution_count": 76,
   "metadata": {},
   "outputs": [],
   "source": [
    "import matplotlib.pyplot as plt"
   ]
  },
  {
   "cell_type": "code",
   "execution_count": 77,
   "metadata": {},
   "outputs": [
    {
     "data": {
      "image/png": "[encoded data removed]",
      "text/plain": "<Figure size 432x288 with 1 Axes>"
     },
     "metadata": {
      "needs_background": "light"
     },
     "output_type": "display_data"
    }
   ],
   "source": [
    "# Compare model algorithms\n",
    "\n",
    "fig = plt.figure()\n",
    "fig.suptitle('Algorithm Comparison')\n",
    "ax = fig.add_subplot(111)\n",
    "plt.boxplot(results)\n",
    "ax.set_xticklabels(names)\n",
    "plt.show()"
   ]
  },
  {
   "cell_type": "code",
   "execution_count": 78,
   "metadata": {},
   "outputs": [],
   "source": [
    "from sklearn.metrics import classification_report\n",
    "from sklearn.metrics import confusion_matrix\n",
    "from sklearn.metrics import accuracy_score"
   ]
  },
  {
   "cell_type": "code",
   "execution_count": 79,
   "metadata": {},
   "outputs": [
    {
     "name": "stdout",
     "output_type": "stream",
     "text": "0.821917808219178\n[[53  1  0  0  3  6]\n [ 1 82  4  0  0 14]\n [ 1  0 30  1  0 20]\n [ 0  0  0 33  0  0]\n [ 3  0  1  2 65  4]\n [ 1  2 13  0  1 97]]\n              precision    recall  f1-score   support\n\n    bathroom       0.90      0.84      0.87        63\n     bedroom       0.96      0.81      0.88       101\n dining_room       0.62      0.58      0.60        52\n       house       0.92      1.00      0.96        33\n     kitchen       0.94      0.87      0.90        75\n living_room       0.69      0.85      0.76       114\n\n    accuracy                           0.82       438\n   macro avg       0.84      0.82      0.83       438\nweighted avg       0.84      0.82      0.82       438\n\n"
    }
   ],
   "source": [
    "# Print data about the chosen model\n",
    "\n",
    "model = LogisticRegression(solver='liblinear', multi_class='ovr')\n",
    "model.fit(X_train, Y_train)\n",
    "predictions = model.predict(X_validation)\n",
    "print(accuracy_score(Y_validation, predictions))\n",
    "print(confusion_matrix(Y_validation, predictions))\n",
    "print(classification_report(Y_validation, predictions))"
   ]
  },
  {
   "cell_type": "code",
   "execution_count": 80,
   "metadata": {},
   "outputs": [
    {
     "name": "stdout",
     "output_type": "stream",
     "text": "['bedroom']\n['bedroom']\n"
    }
   ],
   "source": [
    "# Print a random prediction\n",
    "\n",
    "print(model.predict(array[-2:-1,1:]))\n",
    "print(array[-2:-1,0])"
   ]
  },
  {
   "cell_type": "code",
   "execution_count": 81,
   "metadata": {},
   "outputs": [],
   "source": [
    "import pickle"
   ]
  },
  {
   "cell_type": "code",
   "execution_count": 82,
   "metadata": {},
   "outputs": [],
   "source": [
    "# Save the model as file\n",
    "\n",
    "model_filename = \"task2_model.pkl\"  \n",
    "\n",
    "with open(model_filename, 'wb') as file:  \n",
    "    pickle.dump(model, file)"
   ]
  }
 ]
}
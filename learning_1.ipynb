{
 "cells": [
  {
   "cell_type": "code",
   "execution_count": 47,
   "metadata": {},
   "outputs": [],
   "source": [
    "import skimage as ski\n",
    "from skimage.viewer import ImageViewer\n",
    "\n",
    "import matplotlib.pyplot as plt\n",
    "import numpy as np\n",
    "import os"
   ]
  },
  {
   "cell_type": "code",
   "execution_count": 39,
   "metadata": {},
   "outputs": [
    {
     "name": "stdout",
     "output_type": "stream",
     "text": "C:\\Users\\pawel\\hackathon\\skyhacks2019\\dataset_pendrive\\main task\\input\\test_1\\0A4915AC8C380020584A58784D4800D84901AEA2.jpg\n"
    }
   ],
   "source": [
    "imagename=\"0A4915AC8C380020584A58784D4800D84901AEA2\"\n",
    "filename=\"C:\\\\Users\\\\pawel\\\\hackathon\\\\skyhacks2019\\\\dataset_pendrive\\\\main task\\\\input\\\\test_1\\\\\"+imagename+\".jpg\"\n",
    "input_image=ski.io.imread(filename)\n",
    "print(filename)"
   ]
  },
  {
   "cell_type": "code",
   "execution_count": null,
   "metadata": {},
   "outputs": [],
   "source": [
    "#ImageViewer(input_image).show()\n",
    "#ski.io.imsave(\"resized_images/raw_input.jpg\",input_image)"
   ]
  },
  {
   "cell_type": "code",
   "execution_count": 45,
   "metadata": {},
   "outputs": [
    {
     "name": "stdout",
     "output_type": "stream",
     "text": "(997, 810)\nTrue\n0.802407221664995\n"
    }
   ],
   "source": [
    "output_resolution=800 # 800x800\n",
    "\n",
    "bigger_size=True # Heigth is bigger than width\n",
    "image_sizes=input_image.shape[:2]\n",
    "print(image_sizes)\n",
    "scale=output_resolution/max(input_image.shape[:2])\n",
    "print(scale)"
   ]
  },
  {
   "cell_type": "code",
   "execution_count": 46,
   "metadata": {},
   "outputs": [
    {
     "name": "stderr",
     "output_type": "stream",
     "text": "C:\\Users\\pawel\\Anaconda3\\lib\\site-packages\\skimage\\transform\\_warps.py:23: UserWarning: The default multichannel argument (None) is deprecated.  Please specify either True or False explicitly.  multichannel will default to False starting with release 0.16.\n  warn('The default multichannel argument (None) is deprecated.  Please '\nLossy conversion from float64 to uint8. Range [0, 1]. Convert image to uint8 prior to saving to suppress this warning.\n"
    }
   ],
   "source": [
    "#this resizes to 0.5 scale\n",
    "resized_image=ski.transform.rescale(input_image,scale)\n",
    "\n",
    "#this adds borders\n",
    "final_image=np.full((output_resolution,output_resolution,3),(0.0,0.0,0.0))\n",
    "f_i_t=ski.transform.rescale(input_image,scale)\n",
    "final_image[:f_i_t.shape[0],:f_i_t.shape[1]] += f_i_t #add image to empty border\n",
    "\n",
    "#this saves \n",
    "ski.io.imsave(\"resized_images/\"+\"resized_\"+imagename+\".jpg\",resized_image)\n",
    "ski.io.imsave(\"resized_images/\"+\"normal_\"+imagename+\".jpg\",input_image)\n",
    "ski.io.imsave(\"resized_images/\"+\"final_\"+imagename+\".jpg\",final_image)"
   ]
  },
  {
   "cell_type": "code",
   "execution_count": 80,
   "metadata": {},
   "outputs": [
    {
     "name": "stderr",
     "output_type": "stream",
     "text": "C:\\Users\\pawel\\Anaconda3\\lib\\site-packages\\skimage\\transform\\_warps.py:23: UserWarning: The default multichannel argument (None) is deprecated.  Please specify either True or False explicitly.  multichannel will default to False starting with release 0.16.\n  warn('The default multichannel argument (None) is deprecated.  Please '\nLossy conversion from float64 to uint8. Range [0, 1]. Convert image to uint8 prior to saving to suppress this warning.\n"
    }
   ],
   "source": []
  },
  {
   "cell_type": "code",
   "execution_count": 76,
   "metadata": {},
   "outputs": [
    {
     "name": "stdout",
     "output_type": "stream",
     "text": "(800, 800, 3)\n"
    }
   ],
   "source": [
    "test_final=ski.io.imread(\"resized_images/\"+\"final_\"+imagename+\".jpg\")\n",
    "print(test_final.shape)"
   ]
  },
  {
   "cell_type": "code",
   "execution_count": null,
   "metadata": {},
   "outputs": [],
   "source": []
  }
 ],
 "metadata": {},
 "nbformat": 4,
 "nbformat_minor": 2
}
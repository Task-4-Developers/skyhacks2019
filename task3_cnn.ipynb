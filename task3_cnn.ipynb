{
 "nbformat": 4,
 "nbformat_minor": 2,
 "metadata": {
  "language_info": {
   "name": "python",
   "codemirror_mode": {
    "name": "ipython",
    "version": 3
   }
  },
  "orig_nbformat": 2,
  "file_extension": ".py",
  "mimetype": "text/x-python",
  "name": "python",
  "npconvert_exporter": "python",
  "pygments_lexer": "ipython3",
  "version": 3
 },
 "cells": [
  {
   "cell_type": "code",
   "execution_count": 32,
   "metadata": {},
   "outputs": [],
   "source": [
    "import numpy as np\n",
    "import pandas as pd\n",
    "import tensorflow\n",
    "from keras.models import Sequential\n",
    "from keras.layers import Dense, Dropout, Flatten, BatchNormalization, Activation\n",
    "from keras.layers.convolutional import Conv2D, MaxPooling2D\n",
    "from keras.constraints import maxnorm\n",
    "from keras.utils import np_utils\n",
    "# from keras.preprocessing import image\n",
    "# from PIL import Image\n",
    "\n",
    "import skimage as ski\n",
    "from skimage.viewer import ImageViewer\n",
    "\n",
    "from matplotlib import image\n",
    "import matplotlib.pyplot as plt     \n",
    "import numpy as np\n",
    "import os"
   ]
  },
  {
   "cell_type": "code",
   "execution_count": 65,
   "metadata": {},
   "outputs": [],
   "source": [
    "#this will loop though all files\n",
    "\n",
    "file = 'dataset_github/2019/main/labels.csv'\n",
    "names = ['filename','standard','task2_class','tech_cond','Bathroom','Bathroom cabinet','Bathroom sink','Bathtub','Bed','Bed frame','Bed sheet','Bedroom','Cabinetry','Ceiling','Chair','Chandelier','Chest of drawers','Coffee table','Couch','Countertop','Cupboard','Curtain','Dining room','Door','Drawer','Facade','Fireplace','Floor','Furniture','Grass','Hardwood','House','Kitchen','Kitchen & dining room table','Kitchen stove','Living room','Mattress','Nightstand','Plumbing fixture','Property','Real estate','Refrigerator','Roof','Room','Rural area','Shower','Sink','Sky','Table','Tablecloth','Tap','Tile','Toilet','Tree','Urban area','Wall','Window']\n",
    "\n",
    "labels_data = pd.read_csv(file, names=names)\n",
    "labels_data = labels_data.drop(labels_data.index[0])\n",
    "\n",
    "labels_data = labels_data.drop(labels=['task2_class','Bathroom','Bathroom cabinet','Bathroom sink','Bathtub','Bed','Bed frame','Bed sheet','Bedroom','Cabinetry','Ceiling','Chair','Chandelier','Chest of drawers','Coffee table','Couch','Countertop','Cupboard','Curtain','Dining room','Door','Drawer','Facade','Fireplace','Floor','Furniture','Grass','Hardwood','House','Kitchen','Kitchen & dining room table','Kitchen stove','Living room','Mattress','Nightstand','Plumbing fixture','Property','Real estate','Refrigerator','Roof','Room','Rural area','Shower','Sink','Sky','Table','Tablecloth','Tap','Tile','Toilet','Tree','Urban area','Wall','Window'], axis=1)\n"
   ]
  },
  {
   "cell_type": "code",
   "execution_count": 66,
   "metadata": {},
   "outputs": [],
   "source": [
    "def find(name, path):\n",
    "    for root, dirs, files in os.walk(path):\n",
    "        if name in files:\n",
    "            return os.path.join(root, name)\n",
    "\n",
    "# global num = 0\n",
    "\n",
    "def get_file(file_name):\n",
    "        # return ski.io.imread(find(file_name, \"sorted_resized_images/dataset_pendrive/bonus task/\"))\n",
    "        file_path = find(file_name, \"sorted_resized_images/dataset_pendrive/bonus task/\")\n",
    "        img =  image.imread(file_path)\n",
    "        print(img)\n",
    "        return img.copy()\n",
    "            # print(\"dupa\")\n",
    "        # except:\n",
    "        #     return -1\n",
    "\n",
    "def get_all_files(dataset):\n",
    "    imgs = []\n",
    "\n",
    "    for filename in dataset[\"filename\"]:\n",
    "        try:\n",
    "            file_path = find(file_name, \"sorted_resized_images/dataset_pendrive/bonus task/\")\n",
    "            img =  image.imread(file_path)\n",
    "            imgs.append(img)\n",
    "        except:\n",
    "            imgs.append(-1)\n",
    "    return imgs\n"
   ]
  },
  {
   "cell_type": "code",
   "execution_count": 71,
   "metadata": {},
   "outputs": [
    {
     "data": {
      "text/html": "<div>\n<style scoped>\n    .dataframe tbody tr th:only-of-type {\n        vertical-align: middle;\n    }\n\n    .dataframe tbody tr th {\n        vertical-align: top;\n    }\n\n    .dataframe thead th {\n        text-align: right;\n    }\n</style>\n<table border=\"1\" class=\"dataframe\">\n  <thead>\n    <tr style=\"text-align: right;\">\n      <th></th>\n      <th>image</th>\n    </tr>\n  </thead>\n  <tbody>\n    <tr>\n      <th>count</th>\n      <td>2741.0</td>\n    </tr>\n    <tr>\n      <th>mean</th>\n      <td>-1.0</td>\n    </tr>\n    <tr>\n      <th>std</th>\n      <td>0.0</td>\n    </tr>\n    <tr>\n      <th>min</th>\n      <td>-1.0</td>\n    </tr>\n    <tr>\n      <th>25%</th>\n      <td>-1.0</td>\n    </tr>\n    <tr>\n      <th>50%</th>\n      <td>-1.0</td>\n    </tr>\n    <tr>\n      <th>75%</th>\n      <td>-1.0</td>\n    </tr>\n    <tr>\n      <th>max</th>\n      <td>-1.0</td>\n    </tr>\n  </tbody>\n</table>\n</div>",
      "text/plain": "        image\ncount  2741.0\nmean     -1.0\nstd       0.0\nmin      -1.0\n25%      -1.0\n50%      -1.0\n75%      -1.0\nmax      -1.0"
     },
     "execution_count": 71,
     "metadata": {},
     "output_type": "execute_result"
    }
   ],
   "source": [
    "labels_data.describe()"
   ]
  },
  {
   "cell_type": "code",
   "execution_count": 68,
   "metadata": {},
   "outputs": [
    {
     "data": {
      "text/html": "<div>\n<style scoped>\n    .dataframe tbody tr th:only-of-type {\n        vertical-align: middle;\n    }\n\n    .dataframe tbody tr th {\n        vertical-align: top;\n    }\n\n    .dataframe thead th {\n        text-align: right;\n    }\n</style>\n<table border=\"1\" class=\"dataframe\">\n  <thead>\n    <tr style=\"text-align: right;\">\n      <th></th>\n      <th>filename</th>\n      <th>standard</th>\n      <th>tech_cond</th>\n    </tr>\n  </thead>\n  <tbody>\n    <tr>\n      <th>1</th>\n      <td>A457DA6E80FFBD81B32136F30E3A90E76374F8E6.jpg</td>\n      <td>3</td>\n      <td>3</td>\n    </tr>\n    <tr>\n      <th>2</th>\n      <td>68CAF64A6D3FE5E4F5190753C9C2D0EA95DC4ECC.jpg</td>\n      <td>3</td>\n      <td>3</td>\n    </tr>\n    <tr>\n      <th>3</th>\n      <td>507C177B2C5233467A61AE295E4F53509ECB1BB5.jpg</td>\n      <td>3</td>\n      <td>3</td>\n    </tr>\n    <tr>\n      <th>4</th>\n      <td>17939237F9737823A12906F6F0D774377F363852.jpg</td>\n      <td>3</td>\n      <td>3</td>\n    </tr>\n    <tr>\n      <th>5</th>\n      <td>444D402F65800CF1A7042F1CDF5D581F5804DDDA.jpg</td>\n      <td>3</td>\n      <td>3</td>\n    </tr>\n  </tbody>\n</table>\n</div>",
      "text/plain": "                                       filename standard tech_cond\n1  A457DA6E80FFBD81B32136F30E3A90E76374F8E6.jpg        3         3\n2  68CAF64A6D3FE5E4F5190753C9C2D0EA95DC4ECC.jpg        3         3\n3  507C177B2C5233467A61AE295E4F53509ECB1BB5.jpg        3         3\n4  17939237F9737823A12906F6F0D774377F363852.jpg        3         3\n5  444D402F65800CF1A7042F1CDF5D581F5804DDDA.jpg        3         3"
     },
     "execution_count": 68,
     "metadata": {},
     "output_type": "execute_result"
    }
   ],
   "source": [
    "labels_data.head(5)"
   ]
  },
  {
   "cell_type": "code",
   "execution_count": 69,
   "metadata": {},
   "outputs": [],
   "source": [
    "# print(labels_data[\"filename\"].apply(get_file))"
   ]
  },
  {
   "cell_type": "code",
   "execution_count": 70,
   "metadata": {},
   "outputs": [],
   "source": [
    "# labels_data[\"image\"] = labels_data[\"filename\"].map(lambda x: get_file(x))\n",
    "\n",
    "# labels_data[\"image\"] = map(lambda x: get_file(x), labels_data[\"filename\"].values)\n",
    "# labels_data[\"image\"] = np.fromiter(map(lambda x: get_file(x), labels_data[\"filename\"].values), dtype=np.int)\n",
    "# \n",
    "# print(np.fromiter(map(lambda x: get_file(x), labels_data[\"filename\"].values), dtype=np.int))\n",
    "\n",
    "labels_data[\"image\"] = get_all_files(labels_data)\n",
    "\n",
    "# np.fromiter(seq, dtype=np.int)\n",
    "# for instance in labels_data\n",
    "#esult = map(lambda x: x + x, numbers) "
   ]
  },
  {
   "cell_type": "code",
   "execution_count": 64,
   "metadata": {},
   "outputs": [],
   "source": [
    "labels_data.to_csv(\"task3-data.csv\")"
   ]
  },
  {
   "cell_type": "code",
   "execution_count": null,
   "metadata": {},
   "outputs": [],
   "source": []
  },
  {
   "cell_type": "code",
   "execution_count": null,
   "metadata": {},
   "outputs": [],
   "source": []
  },
  {
   "cell_type": "code",
   "execution_count": null,
   "metadata": {},
   "outputs": [],
   "source": []
  },
  {
   "cell_type": "code",
   "execution_count": null,
   "metadata": {},
   "outputs": [],
   "source": []
  },
  {
   "cell_type": "code",
   "execution_count": null,
   "metadata": {},
   "outputs": [],
   "source": []
  }
 ]
}